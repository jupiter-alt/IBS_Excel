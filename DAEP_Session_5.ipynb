{
  "nbformat": 4,
  "nbformat_minor": 0,
  "metadata": {
    "colab": {
      "provenance": []
    },
    "kernelspec": {
      "name": "python3",
      "display_name": "Python 3"
    },
    "language_info": {
      "name": "python"
    }
  },
  "cells": [
    {
      "cell_type": "markdown",
      "source": [
        "Loops"
      ],
      "metadata": {
        "id": "4vad5TjzKYtD"
      }
    },
    {
      "cell_type": "code",
      "execution_count": null,
      "metadata": {
        "id": "KT73jrhvKRiw"
      },
      "outputs": [],
      "source": [
        "for i in range(5):\n",
        "    print(i)\n"
      ]
    },
    {
      "cell_type": "code",
      "source": [
        "count = 0\n",
        "while count < 5:\n",
        "    print(count)\n",
        "    count += 1\n"
      ],
      "metadata": {
        "id": "jklVH08AKmCJ"
      },
      "execution_count": null,
      "outputs": []
    },
    {
      "cell_type": "code",
      "source": [
        "for i in range(1, 11):\n",
        "    if i % 2 == 0:\n",
        "        print(i)\n"
      ],
      "metadata": {
        "id": "sb6YfcEoK4_c"
      },
      "execution_count": null,
      "outputs": []
    },
    {
      "cell_type": "code",
      "source": [
        "num = int(input(\"Enter a number: \"))\n",
        "factorial = 1\n",
        "while num > 0:\n",
        "    factorial *= num\n",
        "    num -= 1\n",
        "print(f\"Factorial is {factorial}\")"
      ],
      "metadata": {
        "id": "sXdE9qv7K6Bp"
      },
      "execution_count": null,
      "outputs": []
    },
    {
      "cell_type": "markdown",
      "source": [
        "User-Defined Functions"
      ],
      "metadata": {
        "id": "0Tmo4JciLJfI"
      }
    },
    {
      "cell_type": "code",
      "source": [
        "def function_name(parameters):\n",
        "    \"\"\"docstring\"\"\"\n",
        "    # code block\n",
        "    return expression"
      ],
      "metadata": {
        "id": "TXueS9woMuFb"
      },
      "execution_count": null,
      "outputs": []
    },
    {
      "cell_type": "code",
      "source": [
        "def greet():\n",
        "    print(\"Hello, welcome to Python!\")\n",
        "\n",
        "# Calling the function\n",
        "greet()"
      ],
      "metadata": {
        "id": "jBJZpvU_M3Ag"
      },
      "execution_count": null,
      "outputs": []
    },
    {
      "cell_type": "code",
      "source": [
        "def greet_user(name):\n",
        "    print(f\"Hello, {name}, welcome to Python!\")\n",
        "\n",
        "# Calling the function with an argument\n",
        "greet_user(\"Alice\")"
      ],
      "metadata": {
        "id": "ov2n4Dn6K5-b"
      },
      "execution_count": null,
      "outputs": []
    },
    {
      "cell_type": "code",
      "source": [
        "def add_numbers(a, b):\n",
        "    return a + b\n",
        "\n",
        "# Calling the function and storing the result\n",
        "result = add_numbers(3, 4)\n",
        "print(result)  # Output: 7\n"
      ],
      "metadata": {
        "id": "GUCebQdOK56l"
      },
      "execution_count": null,
      "outputs": []
    },
    {
      "cell_type": "markdown",
      "source": [
        "Exercise 1: Create a function square_number() that takes a number and returns its square."
      ],
      "metadata": {
        "id": "9QzWcsG_NajV"
      }
    },
    {
      "cell_type": "markdown",
      "source": [
        "Exercise 2: Create a function calculate_area() that takes the radius of a circle and returns the area. Use π = 3.14159."
      ],
      "metadata": {
        "id": "zhrOSg6FNaV5"
      }
    },
    {
      "cell_type": "markdown",
      "source": [
        "Exercise 3: Create a function is_even() that takes a number and returns True if it's even, otherwise False."
      ],
      "metadata": {
        "id": "LhO0-bdRNnv4"
      }
    },
    {
      "cell_type": "code",
      "source": [
        "def sum_list(numbers):\n",
        "    total = 0\n",
        "    for num in numbers:\n",
        "        total += num\n",
        "    return total\n",
        "\n",
        "result = sum_list([1, 2, 3, 4, 5])\n",
        "print(result)"
      ],
      "metadata": {
        "id": "sCCoo8puK51b"
      },
      "execution_count": null,
      "outputs": []
    },
    {
      "cell_type": "code",
      "source": [
        "def factorial(n):\n",
        "    if n == 1:\n",
        "        return 1\n",
        "    else:\n",
        "        return n * factorial(n-1)\n",
        "\n",
        "print(factorial(5))"
      ],
      "metadata": {
        "id": "74ibVPTdLv7l"
      },
      "execution_count": null,
      "outputs": []
    },
    {
      "cell_type": "code",
      "source": [
        "def check_number(num):\n",
        "    if num > 0:\n",
        "        return \"Positive\"\n",
        "    elif num < 0:\n",
        "        return \"Negative\"\n",
        "    else:\n",
        "        return \"Zero\"\n",
        "\n",
        "# Test the function\n",
        "print(check_number(5))   # Output: Positive\n",
        "print(check_number(-3))  # Output: Negative\n",
        "print(check_number(0))   # Output: Zero"
      ],
      "metadata": {
        "id": "DYKyWsLVO3zv"
      },
      "execution_count": null,
      "outputs": []
    },
    {
      "cell_type": "markdown",
      "source": [
        "Exercise 4: Write a Python function called fibonacci_sequence() that takes a number n as input and prints the first n numbers of the Fibonacci sequence.\n",
        "\n",
        "The Fibonacci sequence starts with 0, 1, and each subsequent number is the sum of the two previous ones."
      ],
      "metadata": {
        "id": "5C_j1SLSOHqS"
      }
    },
    {
      "cell_type": "markdown",
      "source": [
        "Exercise 5: Write a function fahrenheit_to_celsius() that takes a temperature in Fahrenheit and converts it to Celsius."
      ],
      "metadata": {
        "id": "oHgpKX5sO85X"
      }
    },
    {
      "cell_type": "markdown",
      "source": [
        "Exercise 6: Create a function find_max() that takes two numbers as arguments and returns the larger of the two."
      ],
      "metadata": {
        "id": "cu4xUYsiPOfE"
      }
    },
    {
      "cell_type": "code",
      "source": [],
      "metadata": {
        "id": "J5MEV01SOIXe"
      },
      "execution_count": null,
      "outputs": []
    }
  ]
}